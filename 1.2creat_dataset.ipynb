{
 "cells": [
  {
   "cell_type": "code",
   "execution_count": 1,
   "metadata": {},
   "outputs": [
    {
     "name": "stdout",
     "output_type": "stream",
     "text": [
      "311\n",
      "     PHYLO  Diet-Inv  Diet-VectEXCFISH  Diet-Vfish  Diet-Fruit  Diet-Nect  \\\n",
      "212    1.0       0.5               0.0         0.0         0.0        0.0   \n",
      "146    1.0       0.6               0.0         0.0         0.3        0.1   \n",
      "225   10.0       0.2               0.0         0.0         0.3        0.0   \n",
      "129    1.0       0.8               0.0         0.0         0.2        0.0   \n",
      "89     1.0       0.7               0.2         0.0         0.1        0.0   \n",
      "..     ...       ...               ...         ...         ...        ...   \n",
      "135    1.0       0.2               0.2         0.0         0.3        0.1   \n",
      "60     1.0       0.5               0.0         0.0         0.5        0.0   \n",
      "34     1.0       0.3               0.0         0.0         0.0        0.3   \n",
      "216    1.0       0.2               0.0         0.0         0.1        0.0   \n",
      "33     1.0       0.4               0.0         0.0         0.5        0.0   \n",
      "\n",
      "     Diet-Seed  Diet-PlantO  ForStrat-ground  ForStrat-understory  ...  \\\n",
      "212        0.5          0.0              1.0                  0.0  ...   \n",
      "146        0.0          0.0              0.2                  0.4  ...   \n",
      "225        0.5          0.0              1.0                  0.0  ...   \n",
      "129        0.0          0.0              0.5                  0.5  ...   \n",
      "89         0.0          0.0              0.3                  0.4  ...   \n",
      "..         ...          ...              ...                  ...  ...   \n",
      "135        0.2          0.0              0.8                  0.2  ...   \n",
      "60         0.0          0.0              0.0                  0.5  ...   \n",
      "34         0.4          0.0              0.0                  0.0  ...   \n",
      "216        0.7          0.0              0.8                  0.2  ...   \n",
      "33         0.0          0.1              0.0                  0.1  ...   \n",
      "\n",
      "     BodyMass-Value  Hand-Wing.Index  Range.Size  AVE.Latitude  Mig.dis  \\\n",
      "212            1.16             1.82        6.39         33.63     2.90   \n",
      "146            1.69             1.95        6.98         -1.63     0.00   \n",
      "225            2.13             1.89        7.12         -3.84     0.00   \n",
      "129            1.04             1.72        6.53         33.34     2.88   \n",
      "89             1.29             1.81        6.19        -14.85     0.00   \n",
      "..              ...              ...         ...           ...      ...   \n",
      "135            1.89             1.82        7.23         47.87     3.41   \n",
      "60             1.43             1.91        7.02         -6.62     0.00   \n",
      "34             1.30             1.70        5.11        -18.81     0.00   \n",
      "216            1.22             1.70        6.09        -40.12     0.00   \n",
      "33             1.56             1.81        6.90          2.22     0.00   \n",
      "\n",
      "     Tarsus.Length  Beak.Length_Culmen  Threatened  pop.trend  mig.type  \n",
      "212           1.28                1.10           0        1.0         2  \n",
      "146           1.42                1.34           0        1.0         3  \n",
      "225           1.45                1.31           0        1.0         3  \n",
      "129           1.27                1.22           0        1.0         2  \n",
      "89            1.42                1.23           0        1.0         3  \n",
      "..             ...                 ...         ...        ...       ...  \n",
      "135           1.48                1.49           0        1.0         2  \n",
      "60            1.35                1.29           0        2.0         3  \n",
      "34            1.30                1.21           0        1.0         3  \n",
      "216           1.24                1.13           0        2.0         3  \n",
      "33            1.37                1.18           0        3.0         3  \n",
      "\n",
      "[63 rows x 22 columns]\n"
     ]
    }
   ],
   "source": [
    "import numpy as np\n",
    "import pandas as pd\n",
    "import sklearn.datasets as datasets\n",
    "from sklearn import metrics\n",
    "from sklearn.metrics import confusion_matrix, classification_report, accuracy_score\n",
    "from sklearn.model_selection import train_test_split\n",
    "\n",
    "data = pd.read_csv(\n",
    "    'log01HEBING3foldnafillmedian3.csv',\n",
    ")\n",
    "\n",
    "print(len(data))\n",
    "data.head()\n",
    "\n",
    "target = data[['PRE']]\n",
    "features = data.drop('PRE', axis=1) \n",
    "features = features.drop('Tail.Length', axis=1)\n",
    "features = features.drop(['Wing.Length', 'pop.decreasing', 'pop.stable', 'pop.increasing','mig_strictmig','mig_partialmigrant','mig_resident'], axis=1)\n",
    "\n",
    "# features = features.drop('pop.trend', axis=1) \n",
    "# features = features.drop('mig.type', axis=1)\n",
    "features.head()\n",
    "\n",
    "\n",
    "X_train,X_test,y_train,y_test=train_test_split(features,target,test_size=0.2,random_state=0)\n",
    "X_train.shape\n",
    "X_train.ndim\n",
    "print(X_test)\n"
   ]
  },
  {
   "cell_type": "code",
   "execution_count": 2,
   "metadata": {},
   "outputs": [],
   "source": [
    "#Convert a two-dimensional array to a one-dimensional array\n",
    "flattened_X_train = X_train.values\n",
    "flattened_y_train = y_train.values.ravel().astype(np.int64)\n",
    "flattened_X_test = X_test.values\n",
    "flattened_y_test = y_train.values.ravel().astype(np.int64)\n",
    "\n",
    "flattened_X_train[np.isnan(flattened_X_train)] = 2"
   ]
  },
  {
   "cell_type": "code",
   "execution_count": 31,
   "metadata": {},
   "outputs": [
    {
     "name": "stdout",
     "output_type": "stream",
     "text": [
      "[1 0 1 1 1 0 0 0 1 0 0 1 0 1 1 0 0 1 1 1 0 1 1 0 0 0 1 1 0 0 1 1 0 0 0 0 0\n",
      " 0 0 0 1 1 1 1 1 0 0 1 1 0 1 1 1 0 1 0 0 0 1 0 1 0 1 0 1 1 0 0 0 1 0 1 0 1\n",
      " 0 0 1 1 1 1 0 0 1 1 1 0 1 1 1 0 0 0 1 0 1 1 0 1 0 1 1 1 1 0 0 1 0 0 0 1 1\n",
      " 1 1 1 0 1 1 0 1 1 1 0 1 0 0 0 1 0 1 0 0 1 0 0 0 0 1 1 1 0 0 0 1 1 0 0 1 0\n",
      " 1 0 0 1 0 1 1 1 0 1 0 0 0 1 1 1 1 0 1 0 1 0 0 1 1 1 0 0 1 0 1 0 0 0 1 1 0\n",
      " 1 0 1 1 0 0 1 0 1 1 1 1 0 0 1 1 0 1 1 0 1 1 0 0 1 0 0 1 1 1 0 0 0 1 0 0 1\n",
      " 0 0 1 0 1 1 0 0 0 0 1 0 1 1 1 0 0 0 0 1 0 0 0 1 1 0]\n"
     ]
    }
   ],
   "source": [
    "print(flattened_y_train)"
   ]
  },
  {
   "cell_type": "code",
   "execution_count": 9,
   "metadata": {},
   "outputs": [
    {
     "name": "stdout",
     "output_type": "stream",
     "text": [
      "int32\n"
     ]
    },
    {
     "name": "stderr",
     "output_type": "stream",
     "text": [
      "/tmp/ipykernel_1489745/3991755164.py:7: RuntimeWarning: invalid value encountered in cast\n",
      "  X_cat_test = flattened_X_test[:, [0,20,21]].astype(np.int32)\n"
     ]
    }
   ],
   "source": [
    "X_num_train = flattened_X_train[:, [1,2,3,4,5,6,7,8,9,10,11,12,13,14,15,16,17,18]].astype(np.float32)\n",
    "X_bin_train = flattened_X_train[:, [19]].astype(np.float32)\n",
    "X_cat_train = flattened_X_train[:, [0,20,21]].astype(np.int32)\n",
    "\n",
    "X_num_test = flattened_X_test[:, [1,2,3,4,5,6,7,8,9,10,11,12,13,14,15,16,17,18]].astype(np.float32)\n",
    "X_bin_test = flattened_X_test[:, [19]].astype(np.float32)\n",
    "X_cat_test = flattened_X_test[:, [0,20,21]].astype(np.int32)\n",
    "\n",
   ]
  },
  {
   "cell_type": "code",
   "execution_count": 10,
   "metadata": {},
   "outputs": [],
   "source": [
    "np.save('./tabular-dl-tabr/data/my_dataset/X_num_train.npy', X_num_train) \n",
    "np.save('./tabular-dl-tabr/data/my_dataset/X_bin_train.npy', X_bin_train)\n",
    "np.save('./tabular-dl-tabr/data/my_dataset/X_cat_train.npy', X_cat_train)\n",
    "\n",
    "np.save('./tabular-dl-tabr/data/my_dataset/X_num_val.npy', X_num_test)\n",
    "np.save('./tabular-dl-tabr/data/my_dataset/X_bin_val.npy', X_bin_test)\n",
    "np.save('./tabular-dl-tabr/data/my_dataset/X_cat_val.npy', X_cat_test)\n",
    "\n",
    "np.save('./tabular-dl-tabr/data/my_dataset/X_num_test.npy', X_num_test)\n",
    "np.save('./tabular-dl-tabr/data/my_dataset/X_bin_test.npy', X_bin_test)\n",
    "np.save('./tabular-dl-tabr/data/my_dataset/X_cat_test.npy', X_cat_test)\n",
    "\n",
    "#label\n",
    "np.save('./tabular-dl-tabr/data/my_dataset/Y_train.npy', flattened_y_train)\n",
    "np.save('./tabular-dl-tabr/data/my_dataset/Y_val.npy', flattened_y_test)\n"
   ]
  },
  {
   "cell_type": "code",
   "execution_count": 8,
   "metadata": {},
   "outputs": [
    {
     "name": "stdout",
     "output_type": "stream",
     "text": [
      "<U32\n",
      "[[ 2  2  1 19]\n",
      " [ 2  2  2 19]\n",
      " [ 2  0  1 19]\n",
      " ...\n",
      " [ 2  0  2 19]\n",
      " [ 2  0  2 19]\n",
      " [ 2  0  2 19]]\n"
     ]
    }
   ],
   "source": [
    "# data =np.load('./tabular-dl-tabr/data/classif-cat-medium-0-rl/X_cat_train.npy')\n",
    "# print(data.dtype)\n",
    "# # print(arr.dtype)\n",
    "# data.shape\n",
    "da= np.load('./tabular-dl-tabr/data/my_dataset/X_cat_train.npy')\n",
    "print(da.dtype)\n",
    "da= np.load('./tabular-dl-tabr/data/classif-cat-medium-0-rl/X_cat_train.npy')\n",
    "print(da)\n",
    "# da.shape\n",
    "# data1 =np.load('./tabular-dl-tabr/data/classif-cat-medium-0-rl/X_bin_test.npy')\n",
    "# print(data1)\n",
    "# da1= np.load('./tabular-dl-tabr/data/my_dataset/X_bin_test.npy')\n",
    "# print(da1)\n",
    "# data2 =np.load('./tabular-dl-tabr/data/classif-cat-medium-0-rl/X_cat_test.npy')\n",
    "# print(data2)\n",
    "# da2= np.load('./tabular-dl-tabr/data/my_dataset/X_cat_val.npy')\n",
    "# print(da2)"
   ]
  }
 ],
 "metadata": {
  "kernelspec": {
   "display_name": "Python 3.9.13 ('pyt')",
   "language": "python",
   "name": "python3"
  },
  "language_info": {
   "codemirror_mode": {
    "name": "ipython",
    "version": 3
   },
   "file_extension": ".py",
   "mimetype": "text/x-python",
   "name": "python",
   "nbconvert_exporter": "python",
   "pygments_lexer": "ipython3",
   "version": "3.9.13"
  },
  "orig_nbformat": 4,
  "vscode": {
   "interpreter": {
    "hash": "c03e82d36d5f469ea592411c2ea57088e2b8ce411e44828bb9b5ea59888ead43"
   }
  }
 },
 "nbformat": 4,
 "nbformat_minor": 2
}
