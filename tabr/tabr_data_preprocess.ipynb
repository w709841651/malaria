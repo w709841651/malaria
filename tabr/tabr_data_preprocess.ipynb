{
 "cells": [
  {
   "cell_type": "markdown",
   "metadata": {},
   "source": []
  },
  {
   "cell_type": "code",
   "execution_count": 1,
   "metadata": {},
   "outputs": [
    {
     "name": "stdout",
     "output_type": "stream",
     "text": [
      "311\n"
     ]
    },
    {
     "data": {
      "text/plain": [
       "(63, 22)"
      ]
     },
     "execution_count": 1,
     "metadata": {},
     "output_type": "execute_result"
    }
   ],
   "source": [
    "import numpy as np\n",
    "import pandas as pd\n",
    "import sklearn.datasets as datasets\n",
    "from sklearn import metrics\n",
    "from sklearn.metrics import confusion_matrix, classification_report, accuracy_score\n",
    "from sklearn.model_selection import train_test_split\n",
    "\n",
    "data = pd.read_csv(\n",
    "    'log01HEBING3foldnafillmedian3.csv',\n",
    ")\n",
    "\n",
    "print(len(data))\n",
    "data.head()\n",
    "\n",
    "target = data[['PRE']]\n",
    "features = data.drop('PRE', axis=1) \n",
    "features = features.drop(['Tail.Length','Wing.Length', 'pop.decreasing', 'pop.stable', 'pop.increasing','mig_strictmig','mig_partialmigrant','mig_resident'], axis=1)\n",
    "\n",
    "# features = features.drop('pop.trend', axis=1) \n",
    "# features = features.drop('mig.type', axis=1)\n",
    "features.head()\n",
    "\n",
    "\n",
    "X_train,X_test,y_train,y_test=train_test_split(features,target,test_size=0.2,random_state=0)\n",
    "# X_train.shape\n",
    "# X_train.ndim\n",
    "X_test.shape\n",
    "# print(X_test)\n"
   ]
  },
  {
   "cell_type": "code",
   "execution_count": 2,
   "metadata": {},
   "outputs": [],
   "source": [
    "#Convert a two-dimensional array to a one-dimensional array\n",
    "flattened_X_train = X_train.values\n",
    "flattened_y_train = y_train.values.ravel().astype(np.int64)\n",
    "flattened_X_test = X_test.values\n",
    "flattened_y_test = y_train.values.ravel().astype(np.int64)\n",
    "\n",
    "flattened_X_train[np.isnan(flattened_X_train)] = 2\n",
    "flattened_X_test[np.isnan(flattened_X_test)] = 2"
   ]
  },
  {
   "cell_type": "code",
   "execution_count": 3,
   "metadata": {},
   "outputs": [
    {
     "name": "stdout",
     "output_type": "stream",
     "text": [
      "[1 0 1 1 1 0 0 0 1 0 0 1 0 1 1 0 0 1 1 1 0 1 1 0 0 0 1 1 0 0 1 1 0 0 0 0 0\n",
      " 0 0 0 1 1 1 1 1 0 0 1 1 0 1 1 1 0 1 0 0 0 1 0 1 0 1 0 1 1 0 0 0 1 0 1 0 1\n",
      " 0 0 1 1 1 1 0 0 1 1 1 0 1 1 1 0 0 0 1 0 1 1 0 1 0 1 1 1 1 0 0 1 0 0 0 1 1\n",
      " 1 1 1 0 1 1 0 1 1 1 0 1 0 0 0 1 0 1 0 0 1 0 0 0 0 1 1 1 0 0 0 1 1 0 0 1 0\n",
      " 1 0 0 1 0 1 1 1 0 1 0 0 0 1 1 1 1 0 1 0 1 0 0 1 1 1 0 0 1 0 1 0 0 0 1 1 0\n",
      " 1 0 1 1 0 0 1 0 1 1 1 1 0 0 1 1 0 1 1 0 1 1 0 0 1 0 0 1 1 1 0 0 0 1 0 0 1\n",
      " 0 0 1 0 1 1 0 0 0 0 1 0 1 1 1 0 0 0 0 1 0 0 0 1 1 0]\n"
     ]
    }
   ],
   "source": [
    "print(flattened_y_train)"
   ]
  },
  {
   "cell_type": "code",
   "execution_count": 3,
   "metadata": {},
   "outputs": [
    {
     "data": {
      "text/plain": [
       "(63, 18)"
      ]
     },
     "execution_count": 3,
     "metadata": {},
     "output_type": "execute_result"
    }
   ],
   "source": [
    "X_num_train = flattened_X_train[:, [1,2,3,4,5,6,7,8,9,10,11,12,13,14,15,16,17,18]].astype(np.float32)\n",
    "X_bin_train = flattened_X_train[:, [19]].astype(np.float32)\n",
    "X_cat_train = flattened_X_train[:, [0,20,21]].astype(np.int32)\n",
    "\n",
    "X_num_test = flattened_X_test[:, [1,2,3,4,5,6,7,8,9,10,11,12,13,14,15,16,17,18]].astype(np.float32)\n",
    "X_bin_test = flattened_X_test[:, [19]].astype(np.float32)\n",
    "X_cat_test = flattened_X_test[:, [0,20,21]].astype(np.int32)\n",
    "\n",
    "#print(X_cat_train.dtype)\n",
    "# print(X_cat_test)\n",
    "X_num_test.shape"
   ]
  },
  {
   "cell_type": "code",
   "execution_count": 10,
   "metadata": {},
   "outputs": [],
   "source": [
    "np.save('./tabular-dl-tabr/data/my_dataset/X_num_train.npy', X_num_train) \n",
    "np.save('./tabular-dl-tabr/data/my_dataset/X_bin_train.npy', X_bin_train)\n",
    "np.save('./tabular-dl-tabr/data/my_dataset/X_cat_train.npy', X_cat_train)\n",
    "\n",
    "np.save('./tabular-dl-tabr/data/my_dataset/X_num_val.npy', X_num_test)\n",
    "np.save('./tabular-dl-tabr/data/my_dataset/X_bin_val.npy', X_bin_test)\n",
    "np.save('./tabular-dl-tabr/data/my_dataset/X_cat_val.npy', X_cat_test)\n",
    "\n",
    "np.save('./tabular-dl-tabr/data/my_dataset/X_num_test.npy', X_num_test)\n",
    "np.save('./tabular-dl-tabr/data/my_dataset/X_bin_test.npy', X_bin_test)\n",
    "np.save('./tabular-dl-tabr/data/my_dataset/X_cat_test.npy', X_cat_test)\n",
    "\n",
    "#label\n",
    "np.save('./tabular-dl-tabr/data/my_dataset/Y_train.npy', flattened_y_train)\n",
    "np.save('./tabular-dl-tabr/data/my_dataset/Y_val.npy', flattened_y_test)\n"
   ]
  },
  {
   "cell_type": "code",
   "execution_count": 8,
   "metadata": {},
   "outputs": [
    {
     "name": "stdout",
     "output_type": "stream",
     "text": [
      "<U32\n",
      "[[ 2  2  1 19]\n",
      " [ 2  2  2 19]\n",
      " [ 2  0  1 19]\n",
      " ...\n",
      " [ 2  0  2 19]\n",
      " [ 2  0  2 19]\n",
      " [ 2  0  2 19]]\n"
     ]
    }
   ],
   "source": [
    "# data =np.load('./tabular-dl-tabr/data/classif-cat-medium-0-rl/X_cat_train.npy')\n",
    "# print(data.dtype)\n",
    "# # print(arr.dtype)\n",
    "# data.shape\n",
    "da= np.load('./tabular-dl-tabr/data/my_dataset/X_cat_train.npy')\n",
    "print(da.dtype)\n",
    "da= np.load('./tabular-dl-tabr/data/classif-cat-medium-0-rl/X_cat_train.npy')\n",
    "print(da)\n",
    "# da.shape\n",
    "# data1 =np.load('./tabular-dl-tabr/data/classif-cat-medium-0-rl/X_bin_test.npy')\n",
    "# print(data1)\n",
    "# da1= np.load('./tabular-dl-tabr/data/my_dataset/X_bin_test.npy')\n",
    "# print(da1)\n",
    "# data2 =np.load('./tabular-dl-tabr/data/classif-cat-medium-0-rl/X_cat_test.npy')\n",
    "# print(data2)\n",
    "# da2= np.load('./tabular-dl-tabr/data/my_dataset/X_cat_val.npy')\n",
    "# print(da2)"
   ]
  },
  {
   "cell_type": "code",
   "execution_count": 5,
   "metadata": {},
   "outputs": [
    {
     "name": "stdout",
     "output_type": "stream",
     "text": [
      "[[  0.4    0.     0.     0.     0.     0.6    0.     0.8    0.1    0.1\n",
      "    0.     1.62   1.85   7.07  42.23   3.14   1.41   1.27]\n",
      " [  0.6    0.     0.     0.1    0.1    0.1    0.1    0.1    0.4    0.1\n",
      "    0.4    0.98   1.91   7.3   45.71   0.     1.23   0.93]\n",
      " [  1.     0.     0.     0.     0.     0.     0.     0.     0.5    0.5\n",
      "    0.     1.02   1.52   6.71  -2.35   0.     1.22   1.21]\n",
      " [  1.     0.     0.     0.     0.     0.     0.     0.     0.8    0.2\n",
      "    0.     1.33   1.71   6.14  -8.2    0.     1.3    1.31]\n",
      " [  0.8    0.2    0.     0.     0.     0.     0.     0.4    0.4    0.2\n",
      "    0.     1.52   1.88   6.3   -9.49   0.     1.49   1.32]\n",
      " [  1.     0.     0.     0.     0.     0.     0.     0.5    0.5    0.\n",
      "    0.     1.25   1.85   6.77  -3.8    0.     1.31   1.2 ]\n",
      " [  0.9    0.     0.     0.     0.     0.1    0.     0.25   0.25   0.25\n",
      "    0.25   0.93   1.94   6.2  -28.73   0.     1.27   1.11]\n",
      " [  0.     0.     0.     0.     0.     1.     0.     0.4    0.3    0.3\n",
      "    0.     1.43   1.75   7.01  48.95   3.06   1.26   1.19]\n",
      " [  1.     0.     0.     0.     0.     0.     0.     0.     0.     0.33\n",
      "    0.66   1.19   1.79   7.42  49.87   3.75   1.09   1.07]\n",
      " [  0.1    0.     0.     0.     0.9    0.     0.     0.     0.6    0.3\n",
      "    0.1    0.95   1.66   5.93  20.88   0.     0.86   1.54]\n",
      " [  0.8    0.     0.     0.2    0.     0.     0.     0.     0.     0.2\n",
      "    0.8    1.15   1.75   6.8   52.09   3.84   1.33   1.27]]\n",
      "[[ 0.5   0.    0.    0.    0.    0.5   0.    1.    0.    0.    0.    1.16\n",
      "   1.82  6.39 33.63  2.9   1.28  1.1 ]\n",
      " [ 0.6   0.    0.    0.3   0.1   0.    0.    0.2   0.4   0.2   0.2   1.69\n",
      "   1.95  6.98 -1.63  0.    1.42  1.34]]\n",
      "[[ 0.5   0.    0.    0.    0.    0.5   0.    1.    0.    0.    0.    1.16\n",
      "   1.82  6.39 33.63  2.9   1.28  1.1 ]\n",
      " [ 0.6   0.    0.    0.3   0.1   0.    0.    0.2   0.4   0.2   0.2   1.69\n",
      "   1.95  6.98 -1.63  0.    1.42  1.34]\n",
      " [ 0.2   0.    0.    0.3   0.    0.5   0.    1.    0.    0.    0.    2.13\n",
      "   1.89  7.12 -3.84  0.    1.45  1.31]]\n",
      "[1 0 1 1 1 0 0 0 1 0 0]\n",
      "[1 0]\n",
      "[1 0 1]\n"
     ]
    }
   ],
   "source": [
    "#只保留5行num_train 试一试   \n",
    "#5行train，2行val，3行test\n",
    "X_num_train_5 = X_num_train[:11]\n",
    "print(X_num_train_5)\n",
    "X_num_val_2 = X_num_test[:2]\n",
    "print(X_num_val_2)\n",
    "X_num_test_3 = X_num_test[:3]\n",
    "print(X_num_test_3)\n",
    "\n",
    "\n",
    "# X_num_test_3.shape\n",
    "np.save('./tab-ddpm/data/test/X_num_train.npy', X_num_train_5) \n",
    "np.save('./tab-ddpm/data/test/X_num_val.npy', X_num_val_2) \n",
    "np.save('./tab-ddpm/data/test/X_num_test.npy', X_num_test_3) \n",
    "\n",
    "y_train_5 = flattened_y_train[:11]\n",
    "print(y_train_5)\n",
    "y_val_2 = flattened_y_test[:2]\n",
    "print(y_val_2)\n",
    "np.save('./tab-ddpm/data/test/y_train.npy', y_train_5) \n",
    "np.save('./tab-ddpm/data/test/y_val.npy',y_val_2) \n",
    "y_test_3 = flattened_y_test[:3]\n",
    "print(y_test_3)\n",
    "np.save('./tab-ddpm/data/test/y_test.npy',y_test_3) "
   ]
  },
  {
   "cell_type": "code",
   "execution_count": 24,
   "metadata": {},
   "outputs": [
    {
     "name": "stdout",
     "output_type": "stream",
     "text": [
      "[[0.4  0.   0.   ... 3.14 1.41 1.27]\n",
      " [0.6  0.   0.   ... 0.   1.23 0.93]\n",
      " [1.   0.   0.   ... 0.   1.22 1.21]\n",
      " ...\n",
      " [0.3  0.   0.   ... 3.18 1.3  1.16]\n",
      " [0.3  0.   0.   ... 0.   1.25 1.15]\n",
      " [0.5  0.   0.   ... 0.   1.32 1.17]]\n",
      "[[0.5  0.   0.   ... 2.9  1.28 1.1 ]\n",
      " [0.6  0.   0.   ... 0.   1.42 1.34]\n",
      " [0.2  0.   0.   ... 0.   1.45 1.31]\n",
      " ...\n",
      " [0.3  0.   0.   ... 0.   1.3  1.21]\n",
      " [0.2  0.   0.   ... 0.   1.24 1.13]\n",
      " [0.4  0.   0.   ... 0.   1.37 1.18]]\n",
      "[[ 0.5   0.    0.    0.    0.    0.5   0.    1.    0.    0.    0.    1.16\n",
      "   1.82  6.39 33.63  2.9   1.28  1.1 ]\n",
      " [ 0.6   0.    0.    0.3   0.1   0.    0.    0.2   0.4   0.2   0.2   1.69\n",
      "   1.95  6.98 -1.63  0.    1.42  1.34]\n",
      " [ 0.2   0.    0.    0.3   0.    0.5   0.    1.    0.    0.    0.    2.13\n",
      "   1.89  7.12 -3.84  0.    1.45  1.31]]\n",
      "[1 0 1 1 1 0 0 0 1 0 0 1 0 1 1 0 0 1 1 1 0 1 1 0 0 0 1 1 0 0 1 1 0 0 0 0 0\n",
      " 0 0 0 1 1 1 1 1 0 0 1 1 0 1 1 1 0 1 0 0 0 1 0 1 0 1 0 1 1 0 0 0 1 0 1 0 1\n",
      " 0 0 1 1 1 1 0 0 1 1 1 0 1 1 1 0 0 0 1 0 1 1 0 1 0 1 1 1 1 0 0 1 0 0 0 1 1\n",
      " 1 1 1 0 1 1 0 1 1 1 0 1 0 0 0 1 0 1 0 0 1 0 0 0 0 1 1 1 0 0 0 1 1 0 0 1 0\n",
      " 1 0 0 1 0 1 1 1 0 1 0 0 0 1 1 1 1 0 1 0 1 0 0 1 1 1 0 0 1 0 1 0 0 0 1 1 0\n",
      " 1 0 1 1 0 0 1 0 1 1 1 1 0 0 1 1 0 1 1 0 1 1 0 0 1 0 0 1 1 1 0 0 0 1 0 0 1\n",
      " 0 0 1 0 1 1 0 0 0 0 1 0 1 1 1 0 0 0 0 1 0 0 0 1 1 0]\n",
      "[1 0 1 1 1 0 0 0 1 0 0 1 0 1 1 0 0 1 1 1 0 1 1 0 0 0 1 1 0 0 1 1 0 0 0 0 0\n",
      " 0 0 0 1 1 1 1 1 0 0 1 1 0 1 1 1 0 1 0 0 0 1 0 1 0 1]\n",
      "[1 0 1]\n"
     ]
    }
   ],
   "source": [
    " \n",
    "#用head删除下面的行试试 train 248 val 63 test2\n",
    "X_num_train_5 = X_num_train[:248]\n",
    "print(X_num_train_5)\n",
    "X_num_val_2 = X_num_test[:63]\n",
    "print(X_num_val_2)\n",
    "X_num_test_3 = X_num_test[:3]\n",
    "print(X_num_test_3)\n",
    "\n",
    "\n",
    "# X_num_test_3.shape\n",
    "np.save('./tab-ddpm/data/malaria/X_num_train.npy', X_num_train_5) \n",
    "np.save('./tab-ddpm/data/malaria/X_num_val.npy', X_num_val_2) \n",
    "np.save('./tab-ddpm/data/malaria/X_num_test.npy', X_num_test_3) \n",
    "\n",
    "y_train_5 = flattened_y_train[:248]\n",
    "print(y_train_5)\n",
    "y_val_2 = flattened_y_test[:63]\n",
    "print(y_val_2)\n",
    "np.save('./tab-ddpm/data/malaria/y_train.npy', y_train_5) \n",
    "np.save('./tab-ddpm/data/malaria/y_val.npy',y_val_2) \n",
    "y_test_3 = flattened_y_test[:3]\n",
    "print(y_test_3)\n",
    "np.save('./tab-ddpm/data/malaria/y_test.npy',y_test_3) "
   ]
  },
  {
   "cell_type": "code",
   "execution_count": 34,
   "metadata": {},
   "outputs": [],
   "source": [
    "\n",
    "X_cat_train = flattened_X_train[:248, [0,20,21]].astype(str)\n",
    "X_cat_val = flattened_X_test[:63, [0,20,21]].astype(str)\n",
    "X_cat_test = X_cat_val[:3]\n",
    "\n",
    "np.save('./tab-ddpm/data/malaria/X_cat_train.npy', X_cat_train)\n",
    "np.save('./tab-ddpm/data/malaria/X_cat_val.npy', X_cat_val)\n",
    "np.save('./tab-ddpm/data/malaria/X_cat_test.npy', X_cat_test)\n"
   ]
  },
  {
   "cell_type": "code",
   "execution_count": 10,
   "metadata": {},
   "outputs": [
    {
     "name": "stdout",
     "output_type": "stream",
     "text": [
      "[[0.4  0.   0.   ... 3.14 1.41 1.27]\n",
      " [0.6  0.   0.   ... 0.   1.23 0.93]\n",
      " [1.   0.   0.   ... 0.   1.22 1.21]\n",
      " ...\n",
      " [0.3  0.   0.   ... 3.18 1.3  1.16]\n",
      " [0.3  0.   0.   ... 0.   1.25 1.15]\n",
      " [0.5  0.   0.   ... 0.   1.32 1.17]]\n",
      "[[0.5  0.   0.   ... 2.9  1.28 1.1 ]\n",
      " [0.6  0.   0.   ... 0.   1.42 1.34]\n",
      " [0.2  0.   0.   ... 0.   1.45 1.31]\n",
      " ...\n",
      " [0.3  0.   0.   ... 0.   1.3  1.21]\n",
      " [0.2  0.   0.   ... 0.   1.24 1.13]\n",
      " [0.4  0.   0.   ... 0.   1.37 1.18]]\n",
      "[[ 0.5   0.    0.    0.    0.    0.5   0.    1.    0.    0.    0.    1.16\n",
      "   1.82  6.39 33.63  2.9   1.28  1.1 ]\n",
      " [ 0.6   0.    0.    0.3   0.1   0.    0.    0.2   0.4   0.2   0.2   1.69\n",
      "   1.95  6.98 -1.63  0.    1.42  1.34]\n",
      " [ 0.2   0.    0.    0.3   0.    0.5   0.    1.    0.    0.    0.    2.13\n",
      "   1.89  7.12 -3.84  0.    1.45  1.31]]\n",
      "[1 0 1 1 1 0 0 0 1 0 0 1 0 1 1 0 0 1 1 1 0 1 1 0 0 0 1 1 0 0 1 1 0 0 0 0 0\n",
      " 0 0 0 1 1 1 1 1 0 0 1 1 0 1 1 1 0 1 0 0 0 1 0 1 0 1 0 1 1 0 0 0 1 0 1 0 1\n",
      " 0 0 1 1 1 1 0 0 1 1 1 0 1 1 1 0 0 0 1 0 1 1 0 1 0 1 1 1 1 0 0 1 0 0 0 1 1\n",
      " 1 1 1 0 1 1 0 1 1 1 0 1 0 0 0 1 0 1 0 0 1 0 0 0 0 1 1 1 0 0 0 1 1 0 0 1 0\n",
      " 1 0 0 1 0 1 1 1 0 1 0 0 0 1 1 1 1 0 1 0 1 0 0 1 1 1 0 0 1 0 1 0 0 0 1 1 0\n",
      " 1 0 1 1 0 0 1 0 1 1 1 1 0 0 1 1 0 1 1 0 1 1 0 0 1 0 0 1 1 1 0 0 0 1 0 0 1\n",
      " 0 0 1 0 1 1 0 0 0 0 1 0 1 1 1 0 0 0 0 1 0 0 0 1 1 0]\n",
      "[1 0 1 1 1 0 0 0 1 0 0 1 0 1 1 0 0 1 1 1 0 1 1 0 0 0 1 1 0 0 1 1 0 0 0 0 0\n",
      " 0 0 0 1 1 1 1 1 0 0 1 1 0 1 1 1 0 1 0 0 0 1 0 1 0 1]\n",
      "[1 0 1]\n"
     ]
    }
   ],
   "source": [
    " \n",
    "#用head删除下面的行试试 train 248 val 63 test2\n",
    "X_num_train_5 = X_num_train[:248]\n",
    "print(X_num_train_5)\n",
    "X_num_val_2 = X_num_test[:63]\n",
    "print(X_num_val_2)\n",
    "X_num_test_3 = X_num_test[:3]\n",
    "print(X_num_test_3)\n",
    "\n",
    "\n",
    "# X_num_test_3.shape\n",
    "np.save('./tabular-dl-tabr/data/malaria/X_num_train.npy', X_num_train_5) \n",
    "np.save('./tabular-dl-tabr/data/malaria/X_num_val.npy', X_num_val_2) \n",
    "np.save('./tabular-dl-tabr/data/malaria/X_num_test.npy', X_num_test_3) \n",
    "\n",
    "X_cat_train = flattened_X_train[:248, [0,20,21]].astype(np.str_)\n",
    "X_cat_val = flattened_X_test[:63, [0,20,21]].astype(np.str_)\n",
    "X_cat_test = X_cat_val[:3]\n",
    "\n",
    "np.save('./tabular-dl-tabr/data/malaria/X_cat_train.npy', X_cat_train)\n",
    "np.save('./tabular-dl-tabr/data/malaria/X_cat_val.npy', X_cat_val)\n",
    "np.save('./tabular-dl-tabr/data/malaria/X_cat_test.npy', X_cat_test)\n",
    "\n",
    "y_train_5 = flattened_y_train[:248].astype(np.int64)\n",
    "print(y_train_5)\n",
    "y_val_2 = flattened_y_test[:63].astype(np.int64)\n",
    "print(y_val_2)\n",
    "np.save('./tabular-dl-tabr/data/malaria/Y_train.npy', y_train_5) \n",
    "np.save('./tabular-dl-tabr/data/malaria/Y_val.npy',y_val_2) \n",
    "y_test_3 = flattened_y_test[:3].astype(np.int64)\n",
    "print(y_test_3)\n",
    "np.save('./tabular-dl-tabr/data/malaria/Y_test.npy',y_test_3) "
   ]
  }
 ],
 "metadata": {
  "kernelspec": {
   "display_name": "Python 3.9.13 ('pyt')",
   "language": "python",
   "name": "python3"
  },
  "language_info": {
   "codemirror_mode": {
    "name": "ipython",
    "version": 3
   },
   "file_extension": ".py",
   "mimetype": "text/x-python",
   "name": "python",
   "nbconvert_exporter": "python",
   "pygments_lexer": "ipython3",
   "version": "3.9.13"
  },
  "orig_nbformat": 4,
  "vscode": {
   "interpreter": {
    "hash": "c03e82d36d5f469ea592411c2ea57088e2b8ce411e44828bb9b5ea59888ead43"
   }
  }
 },
 "nbformat": 4,
 "nbformat_minor": 2
}
